{
  "nbformat": 4,
  "nbformat_minor": 0,
  "metadata": {
    "colab": {
      "provenance": [],
      "authorship_tag": "ABX9TyNunxXoKHni5ec6IKLYZMjO"
    },
    "kernelspec": {
      "name": "python3",
      "display_name": "Python 3"
    },
    "language_info": {
      "name": "python"
    }
  },
  "cells": [
    {
      "cell_type": "code",
      "source": [
        "!pip install langchain langchain-openai tiktoken slack_sdk langchain_community"
      ],
      "metadata": {
        "collapsed": true,
        "id": "_ZYopc9YBQed"
      },
      "execution_count": null,
      "outputs": []
    },
    {
      "cell_type": "code",
      "source": [
        "from google.colab import userdata\n",
        "OPENAI_API_KEY = userdata.get('OPENAI_API_KEY')\n",
        "SLACK_API_TOKEN = userdata.get('SLACK_API_TOKEN')"
      ],
      "metadata": {
        "id": "LtgTdurdRH_E"
      },
      "execution_count": null,
      "outputs": []
    },
    {
      "cell_type": "code",
      "source": [
        "from langchain.chat_models import ChatOpenAI\n",
        "from langchain import LLMChain\n",
        "from langchain.prompts import ChatPromptTemplate\n",
        "from langchain_core.output_parsers import StrOutputParser\n",
        "from langchain.text_splitter import RecursiveCharacterTextSplitter\n",
        "\n",
        "from slack_sdk import WebClient\n",
        "# 슬랙 클라이언트 초기화\n",
        "client = WebClient(token=SLACK_API_TOKEN)\n",
        "\n",
        "def fetch_slack_thread(channel_id, thread_ts):\n",
        "    try:\n",
        "        response = client.conversations_replies(\n",
        "            channel=channel_id,\n",
        "            ts=thread_ts\n",
        "        )\n",
        "        return response['messages']\n",
        "    except SlackApiError as e:\n",
        "        print(f\"Error fetching thread: {e.response['error']}\")\n",
        "        return None\n",
        "\n",
        "def extract_relevant_info(messages):\n",
        "    # 메시지 내용을 추출\n",
        "    messages_text = [msg['text'] for msg in messages]\n",
        "    return \"\\n\".join(messages_text)\n",
        "\n",
        "prompt_template = ChatPromptTemplate.from_template(\"\"\"\n",
        "당신은 AI 비서입니다. 당신에게 주어진 슬랙 스레드는 장애에 대해 논의하고 있습니다. 이 스레드를 바탕으로 장애 보고서를 작성하십시오.\n",
        "장애 보고서 템플릿은 아래와 같아.\n",
        "타임 라인 및 원인 분석\n",
        "\n",
        "1. 타임라인\n",
        "아래 기준으로 작성 후 우측 Details 시간 정보에도 함께 업데이트 해주세요. (직접 입력시 분 단위로 작성 가능합니다.)\n",
        "내용 작성시 참고한 데이터의 링크도 함께 넣어주세요.\n",
        "* 장애시작\n",
        "    * 시간:\n",
        "    * 내용:\n",
        "* 장애탐지\n",
        "    * 시간:\n",
        "    * 확인방법:\n",
        "    * 장애공유:\n",
        "* 장애복구\n",
        "    * 시간:\n",
        "    * 원인:\n",
        "    * 조치:\n",
        "\n",
        "2. 장애원인 (Root Cause)\n",
        "\n",
        "장애가 발생한 근본적인 원인을 작성해주세요.\n",
        "\n",
        "설명\n",
        "\n",
        "재발방지 대책 (poka-yoke)\n",
        " 답변은 한글로 작성해 주세요.\n",
        "\n",
        "스레드: {thread_text}\n",
        "\n",
        "장애 보고서:\n",
        "\"\"\")\n",
        "# LCEL chaining\n",
        "chain = LLMChain(\n",
        "    llm=ChatOpenAI(model=\"gpt-4\", openai_api_key=OPENAI_API_KEY),\n",
        "    prompt=prompt_template,\n",
        "    output_parser=StrOutputParser()\n",
        ")\n",
        "\n",
        "# 슬랙 스레드 가져오기\n",
        "channel_id = \"CQXDCMWAC\"\n",
        "thread_ts = \"1721028636.946999\"  # 스레드의 타임스탬프\n",
        "\n",
        "messages = fetch_slack_thread(channel_id, thread_ts)\n",
        "if messages:\n",
        "    thread_text = extract_relevant_info(messages)\n",
        "\n",
        "    # 텍스트 분할\n",
        "    splitter = RecursiveCharacterTextSplitter(chunk_size=2000, chunk_overlap=50)\n",
        "    chunks = splitter.split_text(thread_text)\n",
        "\n",
        "    # 각 조각을 처리하고 결합\n",
        "    incident_reports = []\n",
        "    for chunk in chunks:\n",
        "        report = chain.run(chunk)\n",
        "        incident_reports.append(report)\n",
        "\n",
        "    final_report = \"\\n\".join(incident_reports)\n",
        "    print(\"Incident Report:\")\n",
        "    print(final_report)\n",
        "else:\n",
        "    print(\"Failed to fetch the thread.\")"
      ],
      "metadata": {
        "id": "6YcH9PgEBX-l",
        "collapsed": true
      },
      "execution_count": null,
      "outputs": []
    }
  ]
}